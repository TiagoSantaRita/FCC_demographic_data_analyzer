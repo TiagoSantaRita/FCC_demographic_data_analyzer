# %%
import pandas as pd

# %%
df = pd.read_csv('adult.data.csv')

# %%
age = df.age[1] + df.age[2] + df.age[3]
print(age)

# %% [markdown]
# # making a panda series for race and total number of individuals

# %%
race_df = pd.DataFrame()
print(race_df)

# %%
race_df = df['race'].value_counts().reset_index(name='total')
race_df


# %%
print(race_df)

# %% [markdown]
# # geting the average age of men

# %%
(df[df['sex']=='Male']['age'].sum()/df[df['sex']=='Male']['age'].count()).round(decimals=1)

# %% [markdown]
# # percentage of people who have a Bachelor's degree

# %%
degree_df = df['education'].value_counts().reset_index(name='sum').rename(columns={'index': 'education'})
Bachelors = degree_df[degree_df['education'] == 'Bachelors']['sum'].values[0]
total = degree_df['sum'].sum()
total

# %%
percet = (Bachelors*100)/total 
percet.round(decimals=1)

# %% [markdown]
# # percentage of people with advanced education (`Bachelors`, `Masters`, or `Doctorate`) make more than 50K

# %%
rich=df[((df['education']=='Bachelors')|(df['education']=='Masters')|(df['education']=='Doctorate')) & (df['salary']== '>50K')].count()['salary']
poor= df[((df['education']=='Bachelors')|(df['education']=='Masters')|(df['education']=='Doctorate')) & (df['salary']== '<=50K')].count()['salary']
percent = (rich*100)/(rich+poor)
percent.round(decimals=1)

# %% [markdown]
# # percentage of people without advanced education make more than 50K

# %%
rich=df[((df['education']!='Bachelors')&(df['education']!='Masters')&(df['education']!='Doctorate')) & (df['salary']== '>50K')].count()['salary']
poor= df[((df['education']!='Bachelors')&(df['education']!='Masters')&(df['education']!='Doctorate')) & (df['salary']== '<=50K')].count()['salary']
percent = (rich*100)/(rich+poor)
percent.round(decimals=1)

# %% [markdown]
# # minimum number of hours a person works per week

# %%
df['hours-per-week'].min()

# %% [markdown]
# # percentage of the people who work the minimum number of hours per week have a salary of more than 50K

# %%
rich = df[(df['hours-per-week']==df['hours-per-week'].min()) & (df['salary']=='>50K')]
poor = df[(df['hours-per-week']==df['hours-per-week'].min()) & (df['salary']=='<=50K')]
(rich.count()['salary']*100)/(rich.count()['salary']+poor.count()['salary'])


# %% [markdown]
# # country has the highest percentage of people that earn >50K and what is that percentage

# %%
# Create a rich table
rich = df.groupby(['native-country', 'salary']).size().unstack(fill_value=0)

# Calculate percentage earning >50K
rich['>50K_pct'] = (rich['>50K'] / (rich['>50K'] + rich['<=50K'])) * 100

print(rich['>50K_pct'].max())
print(rich['>50K_pct'].idxmax())


# %%
india_rich = df[(df['native-country'] == 'India') & (df['salary'] == '>50K')]

top_occupation = india_rich['occupation'].value_counts().idxmax()
top_occupation



