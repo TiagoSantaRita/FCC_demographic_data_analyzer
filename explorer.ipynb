{
 "cells": [
  {
   "cell_type": "code",
   "execution_count": 1,
   "id": "fbcb351c",
   "metadata": {},
   "outputs": [],
   "source": [
    "import pandas as pd"
   ]
  },
  {
   "cell_type": "code",
   "execution_count": 2,
   "id": "4dffc769",
   "metadata": {},
   "outputs": [],
   "source": [
    "df = pd.read_csv('adult.data.csv')"
   ]
  },
  {
   "cell_type": "code",
   "execution_count": 3,
   "id": "acd35207",
   "metadata": {},
   "outputs": [
    {
     "name": "stdout",
     "output_type": "stream",
     "text": [
      "141\n"
     ]
    }
   ],
   "source": [
    "age = df.age[1] + df.age[2] + df.age[3]\n",
    "print(age)"
   ]
  },
  {
   "cell_type": "markdown",
   "id": "c8aa1639",
   "metadata": {},
   "source": [
    "# making a panda series for race and total number of individuals"
   ]
  },
  {
   "cell_type": "code",
   "execution_count": 4,
   "id": "555d0c98",
   "metadata": {},
   "outputs": [
    {
     "name": "stdout",
     "output_type": "stream",
     "text": [
      "Empty DataFrame\n",
      "Columns: []\n",
      "Index: []\n"
     ]
    }
   ],
   "source": [
    "race_df = pd.DataFrame()\n",
    "print(race_df)"
   ]
  },
  {
   "cell_type": "code",
   "execution_count": 5,
   "id": "afde8b41",
   "metadata": {},
   "outputs": [
    {
     "data": {
      "text/html": [
       "<div>\n",
       "<style scoped>\n",
       "    .dataframe tbody tr th:only-of-type {\n",
       "        vertical-align: middle;\n",
       "    }\n",
       "\n",
       "    .dataframe tbody tr th {\n",
       "        vertical-align: top;\n",
       "    }\n",
       "\n",
       "    .dataframe thead th {\n",
       "        text-align: right;\n",
       "    }\n",
       "</style>\n",
       "<table border=\"1\" class=\"dataframe\">\n",
       "  <thead>\n",
       "    <tr style=\"text-align: right;\">\n",
       "      <th></th>\n",
       "      <th>race</th>\n",
       "      <th>total</th>\n",
       "    </tr>\n",
       "  </thead>\n",
       "  <tbody>\n",
       "    <tr>\n",
       "      <th>0</th>\n",
       "      <td>White</td>\n",
       "      <td>27816</td>\n",
       "    </tr>\n",
       "    <tr>\n",
       "      <th>1</th>\n",
       "      <td>Black</td>\n",
       "      <td>3124</td>\n",
       "    </tr>\n",
       "    <tr>\n",
       "      <th>2</th>\n",
       "      <td>Asian-Pac-Islander</td>\n",
       "      <td>1039</td>\n",
       "    </tr>\n",
       "    <tr>\n",
       "      <th>3</th>\n",
       "      <td>Amer-Indian-Eskimo</td>\n",
       "      <td>311</td>\n",
       "    </tr>\n",
       "    <tr>\n",
       "      <th>4</th>\n",
       "      <td>Other</td>\n",
       "      <td>271</td>\n",
       "    </tr>\n",
       "  </tbody>\n",
       "</table>\n",
       "</div>"
      ],
      "text/plain": [
       "                 race  total\n",
       "0               White  27816\n",
       "1               Black   3124\n",
       "2  Asian-Pac-Islander   1039\n",
       "3  Amer-Indian-Eskimo    311\n",
       "4               Other    271"
      ]
     },
     "execution_count": 5,
     "metadata": {},
     "output_type": "execute_result"
    }
   ],
   "source": [
    "race_df = df['race'].value_counts().reset_index(name='total')\n",
    "race_df\n"
   ]
  },
  {
   "cell_type": "code",
   "execution_count": 6,
   "id": "2680c6b7",
   "metadata": {},
   "outputs": [
    {
     "name": "stdout",
     "output_type": "stream",
     "text": [
      "                 race  total\n",
      "0               White  27816\n",
      "1               Black   3124\n",
      "2  Asian-Pac-Islander   1039\n",
      "3  Amer-Indian-Eskimo    311\n",
      "4               Other    271\n"
     ]
    }
   ],
   "source": [
    "print(race_df)"
   ]
  },
  {
   "cell_type": "markdown",
   "id": "6b4b1b51",
   "metadata": {},
   "source": [
    "# geting the average age of men"
   ]
  },
  {
   "cell_type": "code",
   "execution_count": 7,
   "id": "14ad45ab",
   "metadata": {},
   "outputs": [
    {
     "data": {
      "text/plain": [
       "np.float64(39.4)"
      ]
     },
     "execution_count": 7,
     "metadata": {},
     "output_type": "execute_result"
    }
   ],
   "source": [
    "(df[df['sex']=='Male']['age'].sum()/df[df['sex']=='Male']['age'].count()).round(decimals=1)"
   ]
  },
  {
   "cell_type": "markdown",
   "id": "168f0f7e",
   "metadata": {},
   "source": [
    "# percentage of people who have a Bachelor's degree"
   ]
  },
  {
   "cell_type": "code",
   "execution_count": 8,
   "id": "91172bd4",
   "metadata": {},
   "outputs": [
    {
     "data": {
      "text/plain": [
       "np.int64(32561)"
      ]
     },
     "execution_count": 8,
     "metadata": {},
     "output_type": "execute_result"
    }
   ],
   "source": [
    "degree_df = df['education'].value_counts().reset_index(name='sum').rename(columns={'index': 'education'})\n",
    "Bachelors = degree_df[degree_df['education'] == 'Bachelors']['sum'].values[0]\n",
    "total = degree_df['sum'].sum()\n",
    "total"
   ]
  },
  {
   "cell_type": "code",
   "execution_count": 9,
   "id": "3c0295ce",
   "metadata": {},
   "outputs": [
    {
     "data": {
      "text/plain": [
       "np.float64(16.4)"
      ]
     },
     "execution_count": 9,
     "metadata": {},
     "output_type": "execute_result"
    }
   ],
   "source": [
    "percet = (Bachelors*100)/total \n",
    "percet.round(decimals=1)"
   ]
  },
  {
   "cell_type": "markdown",
   "id": "0b486f83",
   "metadata": {},
   "source": [
    "# percentage of people with advanced education (`Bachelors`, `Masters`, or `Doctorate`) make more than 50K"
   ]
  },
  {
   "cell_type": "code",
   "execution_count": 10,
   "id": "662b52bb",
   "metadata": {},
   "outputs": [
    {
     "data": {
      "text/plain": [
       "np.float64(46.5)"
      ]
     },
     "execution_count": 10,
     "metadata": {},
     "output_type": "execute_result"
    }
   ],
   "source": [
    "rich=df[((df['education']=='Bachelors')|(df['education']=='Masters')|(df['education']=='Doctorate')) & (df['salary']== '>50K')].count()['salary']\n",
    "poor= df[((df['education']=='Bachelors')|(df['education']=='Masters')|(df['education']=='Doctorate')) & (df['salary']== '<=50K')].count()['salary']\n",
    "percent = (rich*100)/(rich+poor)\n",
    "percent.round(decimals=1)"
   ]
  },
  {
   "cell_type": "markdown",
   "id": "7b649761",
   "metadata": {},
   "source": [
    "# percentage of people without advanced education make more than 50K"
   ]
  },
  {
   "cell_type": "code",
   "execution_count": 11,
   "id": "7803e374",
   "metadata": {},
   "outputs": [
    {
     "data": {
      "text/plain": [
       "np.float64(17.4)"
      ]
     },
     "execution_count": 11,
     "metadata": {},
     "output_type": "execute_result"
    }
   ],
   "source": [
    "rich=df[((df['education']!='Bachelors')&(df['education']!='Masters')&(df['education']!='Doctorate')) & (df['salary']== '>50K')].count()['salary']\n",
    "poor= df[((df['education']!='Bachelors')&(df['education']!='Masters')&(df['education']!='Doctorate')) & (df['salary']== '<=50K')].count()['salary']\n",
    "percent = (rich*100)/(rich+poor)\n",
    "percent.round(decimals=1)"
   ]
  },
  {
   "cell_type": "markdown",
   "id": "db48bd03",
   "metadata": {},
   "source": [
    "# minimum number of hours a person works per week"
   ]
  },
  {
   "cell_type": "code",
   "execution_count": 12,
   "id": "846c7311",
   "metadata": {},
   "outputs": [
    {
     "data": {
      "text/plain": [
       "np.int64(1)"
      ]
     },
     "execution_count": 12,
     "metadata": {},
     "output_type": "execute_result"
    }
   ],
   "source": [
    "df['hours-per-week'].min()"
   ]
  },
  {
   "cell_type": "markdown",
   "id": "8fdf0665",
   "metadata": {},
   "source": [
    "# percentage of the people who work the minimum number of hours per week have a salary of more than 50K"
   ]
  },
  {
   "cell_type": "code",
   "execution_count": 13,
   "id": "26a303fb",
   "metadata": {},
   "outputs": [
    {
     "data": {
      "text/plain": [
       "np.float64(10.0)"
      ]
     },
     "execution_count": 13,
     "metadata": {},
     "output_type": "execute_result"
    }
   ],
   "source": [
    "rich = df[(df['hours-per-week']==df['hours-per-week'].min()) & (df['salary']=='>50K')]\n",
    "poor = df[(df['hours-per-week']==df['hours-per-week'].min()) & (df['salary']=='<=50K')]\n",
    "(rich.count()['salary']*100)/(rich.count()['salary']+poor.count()['salary'])\n"
   ]
  },
  {
   "cell_type": "markdown",
   "id": "d00e08f2",
   "metadata": {},
   "source": [
    "# country has the highest percentage of people that earn >50K and what is that percentage"
   ]
  },
  {
   "cell_type": "code",
   "execution_count": 14,
   "id": "0fdf5edc",
   "metadata": {},
   "outputs": [
    {
     "name": "stdout",
     "output_type": "stream",
     "text": [
      "41.86046511627907\n",
      "Iran\n"
     ]
    }
   ],
   "source": [
    "# Create a rich table\n",
    "rich = df.groupby(['native-country', 'salary']).size().unstack(fill_value=0)\n",
    "\n",
    "# Calculate percentage earning >50K\n",
    "rich['>50K_pct'] = (rich['>50K'] / (rich['>50K'] + rich['<=50K'])) * 100\n",
    "\n",
    "print(rich['>50K_pct'].max())\n",
    "print(rich['>50K_pct'].idxmax())\n"
   ]
  },
  {
   "cell_type": "code",
   "execution_count": 15,
   "id": "f2261be2",
   "metadata": {},
   "outputs": [
    {
     "data": {
      "text/plain": [
       "'Prof-specialty'"
      ]
     },
     "execution_count": 15,
     "metadata": {},
     "output_type": "execute_result"
    }
   ],
   "source": [
    "india_rich = df[(df['native-country'] == 'India') & (df['salary'] == '>50K')]\n",
    "\n",
    "top_occupation = india_rich['occupation'].value_counts().idxmax()\n",
    "top_occupation\n"
   ]
  }
 ],
 "metadata": {
  "kernelspec": {
   "display_name": ".venv",
   "language": "python",
   "name": "python3"
  },
  "language_info": {
   "codemirror_mode": {
    "name": "ipython",
    "version": 3
   },
   "file_extension": ".py",
   "mimetype": "text/x-python",
   "name": "python",
   "nbconvert_exporter": "python",
   "pygments_lexer": "ipython3",
   "version": "3.10.12"
  }
 },
 "nbformat": 4,
 "nbformat_minor": 5
}
